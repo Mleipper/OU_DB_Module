{
 "cells": [
  {
   "cell_type": "markdown",
   "metadata": {},
   "source": [
    "# TMA 01, question 1 (15 marks)"
   ]
  },
  {
   "cell_type": "markdown",
   "metadata": {},
   "source": [
    "**Name**: Michael Leipper\n",
    "    \n",
    "**PI**: C8044072\n",
    "\n",
    "This TMA question is designed to start applying some of the ideas that you've seen in the module so far."
   ]
  },
  {
   "cell_type": "markdown",
   "metadata": {},
   "source": [
    "## Part a)\n"
   ]
  },
  {
   "cell_type": "markdown",
   "metadata": {
    "collapsed": true
   },
   "source": [
    "At:\n",
    "\n",
    "https://data.gov.uk/dataset/agricultural_market_reports\n",
    "    \n",
    "is a dataset containing information about the wholesale prices of various products for the period 2004-2015 in England and Wales. The entire dataset is available for download."
   ]
  },
  {
   "cell_type": "markdown",
   "metadata": {},
   "source": [
    "Visit the website via the above link, and look at the website descriptions and metadata. Read the description of the data and then answer the following questions:\n",
    "\n",
    "1. Is the provenance of the data made clear? (Explain your answer.)\n",
    "\n",
    "2. Is it clear when the data was last updated? (Explain your answer.)\n",
    "\n",
    "3. What can you infer from your answers to these questions about the completeness and reliability of the data? (Remember to describe any evidence from the website you use in your answer.)\n",
    "\n",
    "4. What are the rights granted to you to make use of the content of the website? How is this presented?\n"
   ]
  },
  {
   "cell_type": "markdown",
   "metadata": {},
   "source": [
    "*(5 marks)*"
   ]
  },
  {
   "cell_type": "markdown",
   "metadata": {},
   "source": [
    "The provenance of the dataset is made clear this is states that the dataset is published by Published by Department for Environment, Food and Rural Affairs while in the supplied JSON file they are referred to as the \"author\": \"Department for Environment, Food and Rural Affairs\" on line 19. The website states that the Dataset was generated from the average costs for homegrown fruit, vegetables and flowers at Birmingham, Liverpool, New Covent Garden, New Spitalfields, Gateshead and Bristol With effect from the week ending 1 October 2004. This makes it completely clear where the dataset has come from and whom authored it.  \n",
    "\n",
    "\n",
    "The website states that the report has been updated monthly and covers a period that runs from 2004-2015 inclusive. This suggests that the project was last updated sometime after december 2015 as listed under Temporal coverage on the website. When investigating the metadata in the supplied Json loctated at https://data.gov.uk/api/3/action/package_show?id=agricultural_market_reports it becomes clear on line nine of the JSON file that the dataset was last updated on 1/7/2015. \n",
    "\n",
    "From my answers to questions one and two it can be inferred that the dataset doe's not cove the whole period of 2015 since its last update was 1/7/2015, therefore it is not fully complete. As the data was collected by a government with where the locations of the data has been collected has been published we can infer that the dataset is reliable. \n",
    "\n",
    "The data set is publish under a Open Government Licence (OGL). According to the details of the licence presented at http://www.nationalarchives.gov.uk/doc/open-government-licence/version/3/ you are free to copy, publish, distribute and transmit the Information;\n",
    "adapt the Information;\n",
    "exploit the Information commercially and non-commercially for example, by combining it with other Information, or by including it in your own product or application. However you must acknowledge the source of the dataset. \n",
    "There are a few exceptions that are listed for areas that the licence does not cover these are;\n",
    "personal data in the Information;\n",
    "Information that has not been accessed by way of publication or disclosure under information access legislation (including the Freedom of Information Acts for the UK and Scotland) by or with the consent of the Information Provider;\n",
    "departmental or public sector organisation logos, crests and the Royal Arms except where they form an integral part of a document or dataset;\n",
    "military insignia;\n",
    "third party rights the Information Provider is not authorised to license;\n",
    "other intellectual property rights, including patents, trade marks, and design rights; and\n",
    "identity documents such as the British Passport\n"
   ]
  },
  {
   "cell_type": "markdown",
   "metadata": {},
   "source": [
    "## Part b)"
   ]
  },
  {
   "cell_type": "markdown",
   "metadata": {},
   "source": [
    "The National Oceanic and Atmospheric Administration keeps a number of resources for supporting research into the behaviour of the seas and the atmosphere. One dataset that NOAA maintains is the Paleoclimatology Dataset. You can find this linked at:\n",
    "\n",
    "https://www.ncdc.noaa.gov/data-access/paleoclimatology-data\n",
    "\n",
    "Visit this website, and explore what the site tells you this data. \n",
    "\n",
    "Answer the following questions, giving brief explanations of your answers, supported by evidence from the website. As well as the particular page linked above, you should also look at other pages on the same site to help answer these questions. Some questions may have more than one possible answer.\n",
    "\n",
    "1. Who do you think is the intended audience for this website?\n",
    "\n",
    "1. What purpose does this website serve? Is it dissemination, archival or curatorial or something else?\n",
    "\n",
    "1. How have the site designers handled issues of data provenance, authority and trust with respect to the data and information it hosts?\n",
    "\n",
    "1. How have the site designers encouraged exploratory engagement with the content, and is this tailored to producing author-driven or reader-driven data stories?\n",
    "\n",
    "1. What requirements would be placed on you if you were to use data extracted from this site in your research or as the basis of a publication or news article?\n"
   ]
  },
  {
   "cell_type": "markdown",
   "metadata": {},
   "source": [
    "*(10 marks)*"
   ]
  },
  {
   "cell_type": "markdown",
   "metadata": {},
   "source": [
    "The sites intended audience appear to aimed at the scientific community it directly aimed at those interest in paleoclimatology studies.  This is show on the landing page where \"NCEI provides the paleoclimatology data and information scientists need to understand natural climate variability and future climate change.\" is used to describe the purpose of the page. \n",
    "\n",
    "The website purpose appears to be dissemination, archival and curatorial. \n",
    "The website has a selection of datasets that are available to be downloaded. These datasets can be obtained by navigating to https://www.ncdc.noaa.gov/data-access/paleoclimatology-data/datasets. This is example of dissemination of data.  \n",
    "The website allows research teams to contribute data to the project, this is located at https://www.ncdc.noaa.gov/data-access/paleoclimatology-data/contributing and is a example of curation of data. \n",
    "Since all data collected is historical and will not change as time goes on it can remain available on the dataset website until a end user decides to download it. thus making it a example of archival activity.\n",
    "\n",
    "Since any research team can submit data to the project, the site has specified a number of templates so that data can be submitted to the project in different formats. When filling in each template it is required that details about the original source of the data is included in the file along with information about the investigators and site location. This is so the provenance can be obtained. To give the data authority and trust the submission form asks what publication the resulting paper, about the data, appeared in and on what dates. Full information on how to submit to the project is found at https://www.ncdc.noaa.gov/data-access/paleoclimatology-data/contributing this.\n",
    " \n",
    "The website allows users to access data in a exploratory fashion by providing a interactive world map found at: \n",
    "https://gis.ncdc.noaa.gov/maps/ncei/paleo?layers=1 This allows the user to explore the location of the data before selecting to download it. While on this page it is possible to select several data types i.e. core samples, bore holes,and coral... which are then highlighted on the map using different symbols. When a location of interest is selected the interface gives a brief summary of the data in terms of investigator, study name, network, and  location with a download link. \n",
    "\n",
    "If the download link is followed we get a page similar to this: https://www.ncdc.noaa.gov/paleo-search/study/20002?siteId=16580 on this page we're given more detailed information about the data including full metadata and summery of the study notes basically every thing that is asked for on the data submission template. Along with all this background we are also presented with the use Constraints for the data set. The use constraints for all datasets I followed on the website Ask that the original publication , online resource and date accessed when using this data. If there is no publication information, please cite investigator, title, online resource and date accessed. This means that although the data is free and open to use the It is expected that anyone who uses the data in a publication gives full credit to the original research teams. \n",
    "\n",
    "\n"
   ]
  },
  {
   "cell_type": "code",
   "execution_count": null,
   "metadata": {
    "collapsed": true
   },
   "outputs": [],
   "source": []
  }
 ],
 "metadata": {
  "kernelspec": {
   "display_name": "Python 3",
   "language": "python",
   "name": "python3"
  },
  "language_info": {
   "codemirror_mode": {
    "name": "ipython",
    "version": 3
   },
   "file_extension": ".py",
   "mimetype": "text/x-python",
   "name": "python",
   "nbconvert_exporter": "python",
   "pygments_lexer": "ipython3",
   "version": "3.5.2"
  }
 },
 "nbformat": 4,
 "nbformat_minor": 1
}
